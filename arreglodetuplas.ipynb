{
 "cells": [
  {
   "cell_type": "code",
   "execution_count": 2,
   "id": "bbabe8ed-15dd-4bda-820e-3f1a09c63162",
   "metadata": {
    "tags": []
   },
   "outputs": [
    {
     "name": "stdout",
     "output_type": "stream",
     "text": [
      "('Python', 3, 3.11, True)\n"
     ]
    }
   ],
   "source": [
    "String = 'Python'\n",
    "Integer = 3\n",
    "Float = 3.11\n",
    "Boolean = True\n",
    "\n",
    "Mi_tupla = (String, Integer, Float, Boolean)\n",
    "print(Mi_tupla)"
   ]
  },
  {
   "cell_type": "code",
   "execution_count": 3,
   "id": "2b4680c3-89e8-4526-aeb0-89756ff34830",
   "metadata": {
    "tags": []
   },
   "outputs": [
    {
     "name": "stdout",
     "output_type": "stream",
     "text": [
      "['Python', 3, 3.11, True]\n"
     ]
    }
   ],
   "source": [
    "Mi_lista = list(Mi_tupla)\n",
    "print(Mi_lista)"
   ]
  },
  {
   "cell_type": "code",
   "execution_count": 4,
   "id": "56385a5e-c156-4017-9678-2d7273f2dd85",
   "metadata": {
    "tags": []
   },
   "outputs": [
    {
     "name": "stdout",
     "output_type": "stream",
     "text": [
      "{1: 'Python'}\n",
      "{1: 'Python', 2: 3}\n",
      "{1: 'Python', 2: 3, 3: 3.11}\n",
      "{1: 'Python', 2: 3, 3: 3.11, 4: True}\n"
     ]
    }
   ],
   "source": [
    "Mi_diccionario  = {}\n",
    "for i in range(len(Mi_lista)):\n",
    "    Mi_diccionario[i+1] = Mi_lista[i]\n",
    "    print(Mi_diccionario)"
   ]
  }
 ],
 "metadata": {
  "kernelspec": {
   "display_name": "Python 3 (ipykernel)",
   "language": "python",
   "name": "python3"
  },
  "language_info": {
   "codemirror_mode": {
    "name": "ipython",
    "version": 3
   },
   "file_extension": ".py",
   "mimetype": "text/x-python",
   "name": "python",
   "nbconvert_exporter": "python",
   "pygments_lexer": "ipython3",
   "version": "3.11.4"
  }
 },
 "nbformat": 4,
 "nbformat_minor": 5
}
