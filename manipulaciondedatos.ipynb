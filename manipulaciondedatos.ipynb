{
 "cells": [
  {
   "cell_type": "code",
   "execution_count": 1,
   "metadata": {},
   "outputs": [
    {
     "name": "stdout",
     "output_type": "stream",
     "text": [
      "Total a pagar:  120.0\n"
     ]
    }
   ],
   "source": [
    "#Parte 1\n",
    "total = 0\n",
    "while True:\n",
    "\tmonto = float(input('Ingrese el monto de la compra: '))\n",
    "\t\n",
    "\tif monto == 0:\n",
    "\n",
    "\t\tbreak;\n",
    "\n",
    "\tif monto < 0:\n",
    "\t\tprint('El valor ingresado no es valido. ')\n",
    "\t\tcontinue;\n",
    "\n",
    "\ttotal += monto\n",
    "\n",
    "if total > 1000:\n",
    "\t\ttotal *= 0.9\n",
    "\n",
    "print('Total a pagar: ', total)"
   ]
  },
  {
   "cell_type": "code",
   "execution_count": 12,
   "metadata": {},
   "outputs": [
    {
     "name": "stdout",
     "output_type": "stream",
     "text": [
      "No valido, ingrese otra cantidad\n",
      "Total a pagar=  35.0\n"
     ]
    }
   ],
   "source": [
    "#Parte 2\n",
    "minutos = 0\n",
    "costo = 0\n",
    "\n",
    "while True:\n",
    "    \n",
    "    minutos = int(input('Ingresa el tiempo estacionado en minutos: '))\n",
    "    \n",
    "    if minutos == 0:\n",
    "        break;\n",
    "        \n",
    "    if minutos < 0:\n",
    "        print(\"No valido, ingrese otra cantidad\")\n",
    "        continue;\n",
    "        \n",
    "    if minutos > 480:\n",
    "        costo = 225\n",
    "        \n",
    "    elif minutos > 60:\n",
    "        costo = 25 + (15*((minutos - 60 )/60))\n",
    "  \n",
    "    elif minutos > 0:\n",
    "        costo = 25\n",
    "        \n",
    "    else:\n",
    "        costo = 0\n",
    "        \n",
    "print(\"Total a pagar = \", costo)"
   ]
  }
 ],
 "metadata": {
  "kernelspec": {
   "display_name": "Python 3 (ipykernel)",
   "language": "python",
   "name": "python3"
  },
  "language_info": {
   "codemirror_mode": {
    "name": "ipython",
    "version": 3
   },
   "file_extension": ".py",
   "mimetype": "text/x-python",
   "name": "python",
   "nbconvert_exporter": "python",
   "pygments_lexer": "ipython3",
   "version": "3.11.4"
  }
 },
 "nbformat": 4,
 "nbformat_minor": 2
}
