{
 "cells": [
  {
   "cell_type": "code",
   "execution_count": 8,
   "metadata": {},
   "outputs": [
    {
     "name": "stdout",
     "output_type": "stream",
     "text": [
      "Nombre: Rodolfo\n",
      "Numero: 10\n",
      "Nombre: Mabel\n",
      "Numero: 30\n",
      "Nombre: Almendra\n",
      "Numero: 50\n",
      "Nombre: Aurora\n",
      "Numero: 70\n",
      "Nombre: Daniel\n",
      "Numero: 100\n"
     ]
    }
   ],
   "source": [
    "diccionario_base = {'Rodolfo': 10, 'Mabel': 30, 'Almendra': 50, 'Aurora': 70, 'Daniel': 100}\n",
    "\n",
    "for i in diccionario_base:\n",
    "    nombre = i\n",
    "    print(f'Nombre: {nombre}')  # Utiliza f-strings para formatear la cadena\n",
    "    numero = diccionario_base[i]\n",
    "    print(f'Numero: {numero}')  # Utiliza f-strings para formatear la cadena"
   ]
  },
  {
   "cell_type": "code",
   "execution_count": 9,
   "metadata": {},
   "outputs": [
    {
     "name": "stdout",
     "output_type": "stream",
     "text": [
      "El valor más pequeño de la lista es: 10\n",
      "El valor más grande de la lista es: 100\n"
     ]
    }
   ],
   "source": [
    "valores = diccionario_base.values()\n",
    "minimo = min(valores)\n",
    "maximo = max(valores)\n",
    "print(f'El valor más pequeño de la lista es: {minimo}')\n",
    "print(f'El valor más grande de la lista es: {maximo}')"
   ]
  }
 ],
 "metadata": {
  "kernelspec": {
   "display_name": "python_fundamentals",
   "language": "python",
   "name": "python3"
  },
  "language_info": {
   "codemirror_mode": {
    "name": "ipython",
    "version": 3
   },
   "file_extension": ".py",
   "mimetype": "text/x-python",
   "name": "python",
   "nbconvert_exporter": "python",
   "pygments_lexer": "ipython3",
   "version": "3.11.4"
  },
  "orig_nbformat": 4
 },
 "nbformat": 4,
 "nbformat_minor": 2
}
