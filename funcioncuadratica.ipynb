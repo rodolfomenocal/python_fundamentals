{
 "cells": [
  {
   "cell_type": "code",
   "execution_count": 6,
   "id": "34b77504",
   "metadata": {},
   "outputs": [
    {
     "name": "stdout",
     "output_type": "stream",
     "text": [
      "El valor de x1 es -2.0\n",
      "El valor de x2 es -2.0\n"
     ]
    }
   ],
   "source": [
    "def cuadratica(a, b, c):\n",
    "\tdiscriminante = b ** 2 - 4*a*c\n",
    "\n",
    "\tif discriminante < 0:\n",
    "\t\tprint('La respuesta cuenta con un valor imaginario')\n",
    "\t\treturn False, False\n",
    "\telse:\n",
    "\t\tx1 = (-b + discriminante ** 0.5) / (2*a)\n",
    "\t\tx2 = (-b - discriminante ** 0.5) / (2*a)\n",
    "        \n",
    "\t\treturn x1, x2\n",
    "    \n",
    "x1, x2 = cuadratica(1, 4, 4)\n",
    "if x1 is not False:\n",
    "    print(\"El valor de x1 es\", x1)\n",
    "    print(\"El valor de x2 es\", x2)"
   ]
  },
  {
   "cell_type": "code",
   "execution_count": null,
   "id": "94393a68",
   "metadata": {},
   "outputs": [],
   "source": []
  }
 ],
 "metadata": {
  "kernelspec": {
   "display_name": "Python 3 (ipykernel)",
   "language": "python",
   "name": "python3"
  },
  "language_info": {
   "codemirror_mode": {
    "name": "ipython",
    "version": 3
   },
   "file_extension": ".py",
   "mimetype": "text/x-python",
   "name": "python",
   "nbconvert_exporter": "python",
   "pygments_lexer": "ipython3",
   "version": "3.11.4"
  }
 },
 "nbformat": 4,
 "nbformat_minor": 5
}
