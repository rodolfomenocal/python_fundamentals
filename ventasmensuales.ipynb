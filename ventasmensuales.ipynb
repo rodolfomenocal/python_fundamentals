{
 "cells": [
  {
   "cell_type": "code",
   "execution_count": 1,
   "id": "18d1f1ae",
   "metadata": {},
   "outputs": [
    {
     "name": "stdout",
     "output_type": "stream",
     "text": [
      "Ventas mensuales:\n",
      "[[10000 15000 33000 20000]\n",
      " [11000 15500 36000 25000]\n",
      " [12000 16000 39000 30000]\n",
      " [13000 16500 42000 35000]\n",
      " [14000 17000 45000 40000]\n",
      " [15000 17500 48000 45000]\n",
      " [16000 18000 51000 50000]\n",
      " [17000 18500 54000 55000]\n",
      " [18000 19000 57000 60000]\n",
      " [19000 19500 60000 65000]\n",
      " [20000 20000 63000 70000]\n",
      " [21000 20500 66000 75000]]\n",
      "Total de Ventas por Producto:\n",
      "[186000 213000 594000 570000]\n"
     ]
    }
   ],
   "source": [
    "import numpy as np\n",
    "\n",
    "ventas_mensuales = np.array([\n",
    "    [10000, 15000, 33000, 20000],\n",
    "    [11000, 15500, 36000, 25000],\n",
    "    [12000, 16000, 39000, 30000],\n",
    "    [13000, 16500, 42000, 35000],\n",
    "    [14000, 17000, 45000, 40000],\n",
    "    [15000, 17500, 48000, 45000],\n",
    "    [16000, 18000, 51000, 50000],\n",
    "    [17000, 18500, 54000, 55000],\n",
    "    [18000, 19000, 57000, 60000],\n",
    "    [19000, 19500, 60000, 65000],\n",
    "    [20000, 20000, 63000, 70000],\n",
    "    [21000, 20500, 66000, 75000]\n",
    "])\n",
    "\n",
    "print(\"Ventas mensuales:\")\n",
    "print(ventas_mensuales)\n",
    "\n",
    "total_de_ventas_producto = np.sum(ventas_mensuales, axis=0)\n",
    "\n",
    "print(\"Total de Ventas por Producto:\")\n",
    "print(total_de_ventas_producto)\n"
   ]
  },
  {
   "cell_type": "code",
   "execution_count": null,
   "id": "b0259124",
   "metadata": {},
   "outputs": [],
   "source": []
  }
 ],
 "metadata": {
  "kernelspec": {
   "display_name": "Python 3 (ipykernel)",
   "language": "python",
   "name": "python3"
  },
  "language_info": {
   "codemirror_mode": {
    "name": "ipython",
    "version": 3
   },
   "file_extension": ".py",
   "mimetype": "text/x-python",
   "name": "python",
   "nbconvert_exporter": "python",
   "pygments_lexer": "ipython3",
   "version": "3.11.4"
  }
 },
 "nbformat": 4,
 "nbformat_minor": 5
}
