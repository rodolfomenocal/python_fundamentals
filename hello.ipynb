{
 "cells": [
  {
   "cell_type": "code",
   "execution_count": 5,
   "id": "67e6ecff-5dde-429a-8895-ff55e55b87e7",
   "metadata": {
    "tags": []
   },
   "outputs": [
    {
     "name": "stdout",
     "output_type": "stream",
     "text": [
      "Mi nombre es Rodolfo Menocal\n",
      "Lo que era no es lo que soy, y lo que soy no es aún lo que puedo ser.\n",
      "Hola Mundo!\n"
     ]
    }
   ],
   "source": [
    "print('Mi nombre es Rodolfo Menocal')\n",
    "print('Lo que era no es lo que soy, y lo que soy no es aún lo que puedo ser.')\n",
    "a = 'Hola Mundo!'\n",
    "print(a)"
   ]
  }
 ],
 "metadata": {
  "kernelspec": {
   "display_name": "Python 3 (ipykernel)",
   "language": "python",
   "name": "python3"
  },
  "language_info": {
   "codemirror_mode": {
    "name": "ipython",
    "version": 3
   },
   "file_extension": ".py",
   "mimetype": "text/x-python",
   "name": "python",
   "nbconvert_exporter": "python",
   "pygments_lexer": "ipython3",
   "version": "3.11.4"
  }
 },
 "nbformat": 4,
 "nbformat_minor": 5
}
