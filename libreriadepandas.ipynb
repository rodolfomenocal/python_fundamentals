{
 "cells": [
  {
   "cell_type": "code",
   "execution_count": 1,
   "metadata": {},
   "outputs": [
    {
     "name": "stdout",
     "output_type": "stream",
     "text": [
      "   ID                      Name Sex   Age  Height  Weight            Team  \\\n",
      "0   1                 A Dijiang   M  24.0   180.0    80.0           China   \n",
      "1   2                  A Lamusi   M  23.0   170.0    60.0           China   \n",
      "2   3       Gunnar Nielsen Aaby   M  24.0     NaN     NaN         Denmark   \n",
      "3   4      Edgar Lindenau Aabye   M  34.0     NaN     NaN  Denmark/Sweden   \n",
      "4   5  Christine Jacoba Aaftink   F  21.0   185.0    82.0     Netherlands   \n",
      "\n",
      "   NOC        Games  Year  Season       City          Sport  \\\n",
      "0  CHN  1992 Summer  1992  Summer  Barcelona     Basketball   \n",
      "1  CHN  2012 Summer  2012  Summer     London           Judo   \n",
      "2  DEN  1920 Summer  1920  Summer  Antwerpen       Football   \n",
      "3  DEN  1900 Summer  1900  Summer      Paris     Tug-Of-War   \n",
      "4  NED  1988 Winter  1988  Winter    Calgary  Speed Skating   \n",
      "\n",
      "                              Event Medal  \n",
      "0       Basketball Men's Basketball   NaN  \n",
      "1      Judo Men's Extra-Lightweight   NaN  \n",
      "2           Football Men's Football   NaN  \n",
      "3       Tug-Of-War Men's Tug-Of-War  Gold  \n",
      "4  Speed Skating Women's 500 metres   NaN  \n"
     ]
    }
   ],
   "source": [
    "import pandas as pd\n",
    "df = pd.read_csv('/Users/rodolfomenocal/Library/CloudStorage/OneDrive-InstitutoTecnologicoydeEstudiosSuperioresdeMonterrey/Documentos/Digital Hub/Python Fundamentals/athlete_events.csv')\n",
    "print(df.head())"
   ]
  },
  {
   "cell_type": "code",
   "execution_count": 2,
   "metadata": {},
   "outputs": [
    {
     "name": "stdout",
     "output_type": "stream",
     "text": [
      "    ID                      Name Sex   Age  Height  Weight            Team  \\\n",
      "3    4      Edgar Lindenau Aabye   M  34.0     NaN     NaN  Denmark/Sweden   \n",
      "37  15      Arvo Ossian Aaltonen   M  30.0     NaN     NaN         Finland   \n",
      "38  15      Arvo Ossian Aaltonen   M  30.0     NaN     NaN         Finland   \n",
      "40  16  Juhamatti Tapio Aaltonen   M  28.0   184.0    85.0         Finland   \n",
      "41  17   Paavo Johannes Aaltonen   M  28.0   175.0    64.0         Finland   \n",
      "\n",
      "    NOC        Games  Year  Season       City       Sport  \\\n",
      "3   DEN  1900 Summer  1900  Summer      Paris  Tug-Of-War   \n",
      "37  FIN  1920 Summer  1920  Summer  Antwerpen    Swimming   \n",
      "38  FIN  1920 Summer  1920  Summer  Antwerpen    Swimming   \n",
      "40  FIN  2014 Winter  2014  Winter      Sochi  Ice Hockey   \n",
      "41  FIN  1948 Summer  1948  Summer     London  Gymnastics   \n",
      "\n",
      "                                     Event   Medal  \n",
      "3              Tug-Of-War Men's Tug-Of-War    Gold  \n",
      "37  Swimming Men's 200 metres Breaststroke  Bronze  \n",
      "38  Swimming Men's 400 metres Breaststroke  Bronze  \n",
      "40             Ice Hockey Men's Ice Hockey  Bronze  \n",
      "41  Gymnastics Men's Individual All-Around  Bronze  \n"
     ]
    }
   ],
   "source": [
    "df_not_nan = df[df['Medal'].notnull()]\n",
    "print(df_not_nan.head())"
   ]
  },
  {
   "cell_type": "code",
   "execution_count": 3,
   "metadata": {},
   "outputs": [
    {
     "name": "stdout",
     "output_type": "stream",
     "text": [
      "          ID                                           Name Sex   Age  Height  \\\n",
      "44584  22984  John (Herbert Crawford-) Copley (Williamson-)   M  73.0     NaN   \n",
      "\n",
      "       Weight           Team  NOC        Games  Year  Season    City  \\\n",
      "44584     NaN  Great Britain  GBR  1948 Summer  1948  Summer  London   \n",
      "\n",
      "                  Sport                                          Event   Medal  \n",
      "44584  Art Competitions  Art Competitions Mixed Painting, Graphic Arts  Silver  \n"
     ]
    }
   ],
   "source": [
    "if not df_not_nan.empty:\n",
    "    top_ages = df_not_nan.nlargest(1, 'Age')\n",
    "    print(top_ages)\n",
    "else:\n",
    "    print(\"El DataFrame df_not_nan está vacío o no hay filas con medallas.\")"
   ]
  },
  {
   "cell_type": "code",
   "execution_count": 4,
   "metadata": {},
   "outputs": [
    {
     "name": "stdout",
     "output_type": "stream",
     "text": [
      "ID                           14142\n",
      "Name                 Hans Bourquin\n",
      "Sex                              M\n",
      "Age                           13.0\n",
      "Height                         NaN\n",
      "Weight                         NaN\n",
      "Team                   Switzerland\n",
      "NOC                            SUI\n",
      "Games                  1928 Summer\n",
      "Year                          1928\n",
      "Season                      Summer\n",
      "City                     Amsterdam\n",
      "Sport                       Rowing\n",
      "Event     Rowing Men's Coxed Pairs\n",
      "Medal                         Gold\n",
      "Name: 27207, dtype: object\n",
      "Michael Fred Phelps, II\n"
     ]
    }
   ],
   "source": [
    "df_oro = df[df['Medal'] == 'Gold']\n",
    "if not df_oro.empty:\n",
    "    index_2 = df_oro['Age'].idxmin()\n",
    "    if not pd.isnull(index_2):\n",
    "        row_2 = df_oro.loc[index_2]\n",
    "        print(row_2)\n",
    "    else:\n",
    "        print(\"No hay información de edad en el DataFrame df_oro.\")\n",
    "else:\n",
    "    print(\"El DataFrame df_oro está vacío o no hay filas con medallas de oro ('Gold').\")\n",
    "mas_medallas = df_not_nan['Name'].value_counts().idxmax()\n",
    "print(mas_medallas)"
   ]
  },
  {
   "cell_type": "code",
   "execution_count": 5,
   "metadata": {},
   "outputs": [
    {
     "name": "stdout",
     "output_type": "stream",
     "text": [
      "Michael Fred Phelps, II\n"
     ]
    }
   ],
   "source": [
    "mas_medallas = df_not_nan[\"Name\"].value_counts().idxmax()\n",
    "print(mas_medallas)"
   ]
  },
  {
   "cell_type": "code",
   "execution_count": 6,
   "metadata": {},
   "outputs": [],
   "source": [
    "phelps = df[df['Name'] == mas_medallas]\n",
    "phelps.to_csv('phelps.csv')"
   ]
  }
 ],
 "metadata": {
  "kernelspec": {
   "display_name": "python_fundamentals",
   "language": "python",
   "name": "python3"
  },
  "language_info": {
   "codemirror_mode": {
    "name": "ipython",
    "version": 3
   },
   "file_extension": ".py",
   "mimetype": "text/x-python",
   "name": "python",
   "nbconvert_exporter": "python",
   "pygments_lexer": "ipython3",
   "version": "3.11.4"
  },
  "orig_nbformat": 4
 },
 "nbformat": 4,
 "nbformat_minor": 2
}
